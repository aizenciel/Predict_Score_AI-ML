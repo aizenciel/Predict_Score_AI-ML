{
  "nbformat": 4,
  "nbformat_minor": 0,
  "metadata": {
    "colab": {
      "provenance": []
    },
    "kernelspec": {
      "name": "python3",
      "display_name": "Python 3"
    },
    "language_info": {
      "name": "python"
    }
  },
  "cells": [
    {
      "cell_type": "markdown",
      "source": [
        "# Final Project AI\n",
        "\n",
        "\n",
        "\n",
        "1.   Muhammad Rizqi Fadhilah\n",
        "2.   Juliana Widianti Dwi Putri\n",
        "\n",
        "\n"
      ],
      "metadata": {
        "id": "hJl6oCxFu3dW"
      }
    },
    {
      "cell_type": "markdown",
      "source": [
        "langkah - langkah yang digunakan yaitu :\n",
        "- Import dataset\n",
        "- Exploratory Data Analysis : statistical summary untuk mengetahui rata-rata, median, mean dkk, lalu lakukan scatter plot.\n",
        "- Melakukan analisis lainnya semisal correlation heatmap (opsional)\n",
        "- feature engineering (check duplikat data dan drop duplikat, check missing value, check outlier\n",
        "- splitting data ke X_train,X_test,y_train,y_test\n",
        "- Melakukan regresi modelling memakai linear regression, decision tree\n",
        "- Menggunakan model linear regression lalu keluarkan nilai intercept dan coef.\n",
        "- Plotting the actual and predicted values pada tiap model\n",
        "- Membandian 2 model dengan cara menampilkan 2 nilai r pada setiap model lalu mencari tau model dengan nilai r tertinggi."
      ],
      "metadata": {
        "id": "YiGhc8ffpqWN"
      }
    },
    {
      "cell_type": "code",
      "source": [
        "from google.colab import drive\n",
        "drive.mount('/content/drive')"
      ],
      "metadata": {
        "colab": {
          "base_uri": "https://localhost:8080/"
        },
        "id": "R1mkKFYbXmuS",
        "outputId": "193c3aa7-8ea5-4500-ce42-9966bdec38f9"
      },
      "execution_count": null,
      "outputs": [
        {
          "output_type": "stream",
          "name": "stdout",
          "text": [
            "Drive already mounted at /content/drive; to attempt to forcibly remount, call drive.mount(\"/content/drive\", force_remount=True).\n"
          ]
        }
      ]
    },
    {
      "cell_type": "markdown",
      "source": [
        "Kita lakukan terlebih dahulu Import Library yang kita butuhkan, disini kita memanggil 4 data library dengan berbagi fungsi diantaranya :\n",
        "\n",
        "\n",
        "1.   Pandas sebagai library untuk Dataset  yang diinisialisasi sebagai pd\n",
        "2.   Matplotlib.pyplot untuk melakukan Visualisi yang diinisialisasi sebagai plt\n",
        "3.   Seaborn untuk melakukan Visualisasi yang dinisialisasi sebagai sns\n",
        "4.   Numpy untuk melakukan Operasi Aritmatika yang di inisialisasi sebagai np\n",
        "\n"
      ],
      "metadata": {
        "id": "j6gOBUinVyeh"
      }
    },
    {
      "cell_type": "code",
      "execution_count": null,
      "metadata": {
        "id": "MWli5Twwpmf1"
      },
      "outputs": [],
      "source": [
        "# import all the libraries\n",
        "import pandas as pd\n",
        "import matplotlib.pyplot as plt\n",
        "import seaborn as sns\n",
        "import numpy as np"
      ]
    },
    {
      "cell_type": "markdown",
      "source": [
        "### Import dataset\n",
        "Melakukan import data set yang sudah disiapkan dan dapat diakses [disini](https://drive.google.com/drive/folders/11RYAMn2awK8TU7kY0_DhrQIZib1JqAyl?usp=sharing) , dimana didalam data set ini berisi data yaitu Hours dan Score atau jam dan nilai."
      ],
      "metadata": {
        "id": "QoCxSYHvtTD_"
      }
    },
    {
      "cell_type": "code",
      "source": [
        "!ls \"/content/drive/MyDrive/DatasetProjectFinalAI \""
      ],
      "metadata": {
        "colab": {
          "base_uri": "https://localhost:8080/"
        },
        "id": "xpLLcO-mZjIc",
        "outputId": "22cd1619-db38-41cf-83a5-ef9eac1760f2"
      },
      "execution_count": null,
      "outputs": [
        {
          "output_type": "stream",
          "name": "stdout",
          "text": [
            "student_scores.csv  student_scores.xlsx\n"
          ]
        }
      ]
    },
    {
      "cell_type": "code",
      "source": [
        "# Membaca Dataset menggunakan Library Pandas\n",
        "data = pd.read_csv('/content/drive/MyDrive/DatasetProjectFinalAI /student_scores.csv')\n",
        "data"
      ],
      "metadata": {
        "colab": {
          "base_uri": "https://localhost:8080/",
          "height": 833
        },
        "id": "iHmg0apHppRu",
        "outputId": "846b876a-433a-4df1-ec37-9bcd255d2582"
      },
      "execution_count": null,
      "outputs": [
        {
          "output_type": "execute_result",
          "data": {
            "text/plain": [
              "    Hours  Scores\n",
              "0     2.5      21\n",
              "1     5.1      47\n",
              "2     3.2      27\n",
              "3     8.5      75\n",
              "4     3.5      30\n",
              "5     1.5      20\n",
              "6     9.2      88\n",
              "7     5.5      60\n",
              "8     8.3      81\n",
              "9     2.7      25\n",
              "10    7.7      85\n",
              "11    5.9      62\n",
              "12    4.5      41\n",
              "13    3.3      42\n",
              "14    1.1      17\n",
              "15    8.9      95\n",
              "16    2.5      30\n",
              "17    1.9      24\n",
              "18    6.1      67\n",
              "19    7.4      69\n",
              "20    2.7      30\n",
              "21    4.8      54\n",
              "22    3.8      35\n",
              "23    6.9      76\n",
              "24    7.8      86"
            ],
            "text/html": [
              "\n",
              "  <div id=\"df-5b8bee0b-193d-476a-8993-e5f14c043d73\" class=\"colab-df-container\">\n",
              "    <div>\n",
              "<style scoped>\n",
              "    .dataframe tbody tr th:only-of-type {\n",
              "        vertical-align: middle;\n",
              "    }\n",
              "\n",
              "    .dataframe tbody tr th {\n",
              "        vertical-align: top;\n",
              "    }\n",
              "\n",
              "    .dataframe thead th {\n",
              "        text-align: right;\n",
              "    }\n",
              "</style>\n",
              "<table border=\"1\" class=\"dataframe\">\n",
              "  <thead>\n",
              "    <tr style=\"text-align: right;\">\n",
              "      <th></th>\n",
              "      <th>Hours</th>\n",
              "      <th>Scores</th>\n",
              "    </tr>\n",
              "  </thead>\n",
              "  <tbody>\n",
              "    <tr>\n",
              "      <th>0</th>\n",
              "      <td>2.5</td>\n",
              "      <td>21</td>\n",
              "    </tr>\n",
              "    <tr>\n",
              "      <th>1</th>\n",
              "      <td>5.1</td>\n",
              "      <td>47</td>\n",
              "    </tr>\n",
              "    <tr>\n",
              "      <th>2</th>\n",
              "      <td>3.2</td>\n",
              "      <td>27</td>\n",
              "    </tr>\n",
              "    <tr>\n",
              "      <th>3</th>\n",
              "      <td>8.5</td>\n",
              "      <td>75</td>\n",
              "    </tr>\n",
              "    <tr>\n",
              "      <th>4</th>\n",
              "      <td>3.5</td>\n",
              "      <td>30</td>\n",
              "    </tr>\n",
              "    <tr>\n",
              "      <th>5</th>\n",
              "      <td>1.5</td>\n",
              "      <td>20</td>\n",
              "    </tr>\n",
              "    <tr>\n",
              "      <th>6</th>\n",
              "      <td>9.2</td>\n",
              "      <td>88</td>\n",
              "    </tr>\n",
              "    <tr>\n",
              "      <th>7</th>\n",
              "      <td>5.5</td>\n",
              "      <td>60</td>\n",
              "    </tr>\n",
              "    <tr>\n",
              "      <th>8</th>\n",
              "      <td>8.3</td>\n",
              "      <td>81</td>\n",
              "    </tr>\n",
              "    <tr>\n",
              "      <th>9</th>\n",
              "      <td>2.7</td>\n",
              "      <td>25</td>\n",
              "    </tr>\n",
              "    <tr>\n",
              "      <th>10</th>\n",
              "      <td>7.7</td>\n",
              "      <td>85</td>\n",
              "    </tr>\n",
              "    <tr>\n",
              "      <th>11</th>\n",
              "      <td>5.9</td>\n",
              "      <td>62</td>\n",
              "    </tr>\n",
              "    <tr>\n",
              "      <th>12</th>\n",
              "      <td>4.5</td>\n",
              "      <td>41</td>\n",
              "    </tr>\n",
              "    <tr>\n",
              "      <th>13</th>\n",
              "      <td>3.3</td>\n",
              "      <td>42</td>\n",
              "    </tr>\n",
              "    <tr>\n",
              "      <th>14</th>\n",
              "      <td>1.1</td>\n",
              "      <td>17</td>\n",
              "    </tr>\n",
              "    <tr>\n",
              "      <th>15</th>\n",
              "      <td>8.9</td>\n",
              "      <td>95</td>\n",
              "    </tr>\n",
              "    <tr>\n",
              "      <th>16</th>\n",
              "      <td>2.5</td>\n",
              "      <td>30</td>\n",
              "    </tr>\n",
              "    <tr>\n",
              "      <th>17</th>\n",
              "      <td>1.9</td>\n",
              "      <td>24</td>\n",
              "    </tr>\n",
              "    <tr>\n",
              "      <th>18</th>\n",
              "      <td>6.1</td>\n",
              "      <td>67</td>\n",
              "    </tr>\n",
              "    <tr>\n",
              "      <th>19</th>\n",
              "      <td>7.4</td>\n",
              "      <td>69</td>\n",
              "    </tr>\n",
              "    <tr>\n",
              "      <th>20</th>\n",
              "      <td>2.7</td>\n",
              "      <td>30</td>\n",
              "    </tr>\n",
              "    <tr>\n",
              "      <th>21</th>\n",
              "      <td>4.8</td>\n",
              "      <td>54</td>\n",
              "    </tr>\n",
              "    <tr>\n",
              "      <th>22</th>\n",
              "      <td>3.8</td>\n",
              "      <td>35</td>\n",
              "    </tr>\n",
              "    <tr>\n",
              "      <th>23</th>\n",
              "      <td>6.9</td>\n",
              "      <td>76</td>\n",
              "    </tr>\n",
              "    <tr>\n",
              "      <th>24</th>\n",
              "      <td>7.8</td>\n",
              "      <td>86</td>\n",
              "    </tr>\n",
              "  </tbody>\n",
              "</table>\n",
              "</div>\n",
              "    <div class=\"colab-df-buttons\">\n",
              "\n",
              "  <div class=\"colab-df-container\">\n",
              "    <button class=\"colab-df-convert\" onclick=\"convertToInteractive('df-5b8bee0b-193d-476a-8993-e5f14c043d73')\"\n",
              "            title=\"Convert this dataframe to an interactive table.\"\n",
              "            style=\"display:none;\">\n",
              "\n",
              "  <svg xmlns=\"http://www.w3.org/2000/svg\" height=\"24px\" viewBox=\"0 -960 960 960\">\n",
              "    <path d=\"M120-120v-720h720v720H120Zm60-500h600v-160H180v160Zm220 220h160v-160H400v160Zm0 220h160v-160H400v160ZM180-400h160v-160H180v160Zm440 0h160v-160H620v160ZM180-180h160v-160H180v160Zm440 0h160v-160H620v160Z\"/>\n",
              "  </svg>\n",
              "    </button>\n",
              "\n",
              "  <style>\n",
              "    .colab-df-container {\n",
              "      display:flex;\n",
              "      gap: 12px;\n",
              "    }\n",
              "\n",
              "    .colab-df-convert {\n",
              "      background-color: #E8F0FE;\n",
              "      border: none;\n",
              "      border-radius: 50%;\n",
              "      cursor: pointer;\n",
              "      display: none;\n",
              "      fill: #1967D2;\n",
              "      height: 32px;\n",
              "      padding: 0 0 0 0;\n",
              "      width: 32px;\n",
              "    }\n",
              "\n",
              "    .colab-df-convert:hover {\n",
              "      background-color: #E2EBFA;\n",
              "      box-shadow: 0px 1px 2px rgba(60, 64, 67, 0.3), 0px 1px 3px 1px rgba(60, 64, 67, 0.15);\n",
              "      fill: #174EA6;\n",
              "    }\n",
              "\n",
              "    .colab-df-buttons div {\n",
              "      margin-bottom: 4px;\n",
              "    }\n",
              "\n",
              "    [theme=dark] .colab-df-convert {\n",
              "      background-color: #3B4455;\n",
              "      fill: #D2E3FC;\n",
              "    }\n",
              "\n",
              "    [theme=dark] .colab-df-convert:hover {\n",
              "      background-color: #434B5C;\n",
              "      box-shadow: 0px 1px 3px 1px rgba(0, 0, 0, 0.15);\n",
              "      filter: drop-shadow(0px 1px 2px rgba(0, 0, 0, 0.3));\n",
              "      fill: #FFFFFF;\n",
              "    }\n",
              "  </style>\n",
              "\n",
              "    <script>\n",
              "      const buttonEl =\n",
              "        document.querySelector('#df-5b8bee0b-193d-476a-8993-e5f14c043d73 button.colab-df-convert');\n",
              "      buttonEl.style.display =\n",
              "        google.colab.kernel.accessAllowed ? 'block' : 'none';\n",
              "\n",
              "      async function convertToInteractive(key) {\n",
              "        const element = document.querySelector('#df-5b8bee0b-193d-476a-8993-e5f14c043d73');\n",
              "        const dataTable =\n",
              "          await google.colab.kernel.invokeFunction('convertToInteractive',\n",
              "                                                    [key], {});\n",
              "        if (!dataTable) return;\n",
              "\n",
              "        const docLinkHtml = 'Like what you see? Visit the ' +\n",
              "          '<a target=\"_blank\" href=https://colab.research.google.com/notebooks/data_table.ipynb>data table notebook</a>'\n",
              "          + ' to learn more about interactive tables.';\n",
              "        element.innerHTML = '';\n",
              "        dataTable['output_type'] = 'display_data';\n",
              "        await google.colab.output.renderOutput(dataTable, element);\n",
              "        const docLink = document.createElement('div');\n",
              "        docLink.innerHTML = docLinkHtml;\n",
              "        element.appendChild(docLink);\n",
              "      }\n",
              "    </script>\n",
              "  </div>\n",
              "\n",
              "\n",
              "<div id=\"df-41ad844e-2249-48aa-910d-b33db84d4b9d\">\n",
              "  <button class=\"colab-df-quickchart\" onclick=\"quickchart('df-41ad844e-2249-48aa-910d-b33db84d4b9d')\"\n",
              "            title=\"Suggest charts\"\n",
              "            style=\"display:none;\">\n",
              "\n",
              "<svg xmlns=\"http://www.w3.org/2000/svg\" height=\"24px\"viewBox=\"0 0 24 24\"\n",
              "     width=\"24px\">\n",
              "    <g>\n",
              "        <path d=\"M19 3H5c-1.1 0-2 .9-2 2v14c0 1.1.9 2 2 2h14c1.1 0 2-.9 2-2V5c0-1.1-.9-2-2-2zM9 17H7v-7h2v7zm4 0h-2V7h2v10zm4 0h-2v-4h2v4z\"/>\n",
              "    </g>\n",
              "</svg>\n",
              "  </button>\n",
              "\n",
              "<style>\n",
              "  .colab-df-quickchart {\n",
              "      --bg-color: #E8F0FE;\n",
              "      --fill-color: #1967D2;\n",
              "      --hover-bg-color: #E2EBFA;\n",
              "      --hover-fill-color: #174EA6;\n",
              "      --disabled-fill-color: #AAA;\n",
              "      --disabled-bg-color: #DDD;\n",
              "  }\n",
              "\n",
              "  [theme=dark] .colab-df-quickchart {\n",
              "      --bg-color: #3B4455;\n",
              "      --fill-color: #D2E3FC;\n",
              "      --hover-bg-color: #434B5C;\n",
              "      --hover-fill-color: #FFFFFF;\n",
              "      --disabled-bg-color: #3B4455;\n",
              "      --disabled-fill-color: #666;\n",
              "  }\n",
              "\n",
              "  .colab-df-quickchart {\n",
              "    background-color: var(--bg-color);\n",
              "    border: none;\n",
              "    border-radius: 50%;\n",
              "    cursor: pointer;\n",
              "    display: none;\n",
              "    fill: var(--fill-color);\n",
              "    height: 32px;\n",
              "    padding: 0;\n",
              "    width: 32px;\n",
              "  }\n",
              "\n",
              "  .colab-df-quickchart:hover {\n",
              "    background-color: var(--hover-bg-color);\n",
              "    box-shadow: 0 1px 2px rgba(60, 64, 67, 0.3), 0 1px 3px 1px rgba(60, 64, 67, 0.15);\n",
              "    fill: var(--button-hover-fill-color);\n",
              "  }\n",
              "\n",
              "  .colab-df-quickchart-complete:disabled,\n",
              "  .colab-df-quickchart-complete:disabled:hover {\n",
              "    background-color: var(--disabled-bg-color);\n",
              "    fill: var(--disabled-fill-color);\n",
              "    box-shadow: none;\n",
              "  }\n",
              "\n",
              "  .colab-df-spinner {\n",
              "    border: 2px solid var(--fill-color);\n",
              "    border-color: transparent;\n",
              "    border-bottom-color: var(--fill-color);\n",
              "    animation:\n",
              "      spin 1s steps(1) infinite;\n",
              "  }\n",
              "\n",
              "  @keyframes spin {\n",
              "    0% {\n",
              "      border-color: transparent;\n",
              "      border-bottom-color: var(--fill-color);\n",
              "      border-left-color: var(--fill-color);\n",
              "    }\n",
              "    20% {\n",
              "      border-color: transparent;\n",
              "      border-left-color: var(--fill-color);\n",
              "      border-top-color: var(--fill-color);\n",
              "    }\n",
              "    30% {\n",
              "      border-color: transparent;\n",
              "      border-left-color: var(--fill-color);\n",
              "      border-top-color: var(--fill-color);\n",
              "      border-right-color: var(--fill-color);\n",
              "    }\n",
              "    40% {\n",
              "      border-color: transparent;\n",
              "      border-right-color: var(--fill-color);\n",
              "      border-top-color: var(--fill-color);\n",
              "    }\n",
              "    60% {\n",
              "      border-color: transparent;\n",
              "      border-right-color: var(--fill-color);\n",
              "    }\n",
              "    80% {\n",
              "      border-color: transparent;\n",
              "      border-right-color: var(--fill-color);\n",
              "      border-bottom-color: var(--fill-color);\n",
              "    }\n",
              "    90% {\n",
              "      border-color: transparent;\n",
              "      border-bottom-color: var(--fill-color);\n",
              "    }\n",
              "  }\n",
              "</style>\n",
              "\n",
              "  <script>\n",
              "    async function quickchart(key) {\n",
              "      const quickchartButtonEl =\n",
              "        document.querySelector('#' + key + ' button');\n",
              "      quickchartButtonEl.disabled = true;  // To prevent multiple clicks.\n",
              "      quickchartButtonEl.classList.add('colab-df-spinner');\n",
              "      try {\n",
              "        const charts = await google.colab.kernel.invokeFunction(\n",
              "            'suggestCharts', [key], {});\n",
              "      } catch (error) {\n",
              "        console.error('Error during call to suggestCharts:', error);\n",
              "      }\n",
              "      quickchartButtonEl.classList.remove('colab-df-spinner');\n",
              "      quickchartButtonEl.classList.add('colab-df-quickchart-complete');\n",
              "    }\n",
              "    (() => {\n",
              "      let quickchartButtonEl =\n",
              "        document.querySelector('#df-41ad844e-2249-48aa-910d-b33db84d4b9d button');\n",
              "      quickchartButtonEl.style.display =\n",
              "        google.colab.kernel.accessAllowed ? 'block' : 'none';\n",
              "    })();\n",
              "  </script>\n",
              "</div>\n",
              "    </div>\n",
              "  </div>\n"
            ],
            "application/vnd.google.colaboratory.intrinsic+json": {
              "type": "dataframe",
              "variable_name": "data",
              "summary": "{\n  \"name\": \"data\",\n  \"rows\": 25,\n  \"fields\": [\n    {\n      \"column\": \"Hours\",\n      \"properties\": {\n        \"dtype\": \"number\",\n        \"std\": 2.5250940576540906,\n        \"min\": 1.1,\n        \"max\": 9.2,\n        \"num_unique_values\": 23,\n        \"samples\": [\n          8.9,\n          2.7,\n          2.5\n        ],\n        \"semantic_type\": \"\",\n        \"description\": \"\"\n      }\n    },\n    {\n      \"column\": \"Scores\",\n      \"properties\": {\n        \"dtype\": \"number\",\n        \"std\": 25,\n        \"min\": 17,\n        \"max\": 95,\n        \"num_unique_values\": 23,\n        \"samples\": [\n          95,\n          25,\n          21\n        ],\n        \"semantic_type\": \"\",\n        \"description\": \"\"\n      }\n    }\n  ]\n}"
            }
          },
          "metadata": {},
          "execution_count": 19
        }
      ]
    },
    {
      "cell_type": "markdown",
      "source": [
        "# Exploratory Data Analysis\n",
        "Mencari kesimpulan atau summary statistikal untuk mengetahui rata -rata, median, mean dll. Kemudian kita lakukan scatter plot untuk melihat hubungan atau korelasi apakah korelasi positif atau tidak, apakah memiliki keeratan yang tingi atau tidak."
      ],
      "metadata": {
        "id": "8csz3YxU5zm4"
      }
    },
    {
      "cell_type": "code",
      "source": [
        "# Menampilkan beberapa informasi terkait kolom dan data dari student_scores\n",
        "data.info()"
      ],
      "metadata": {
        "colab": {
          "base_uri": "https://localhost:8080/"
        },
        "id": "h8O8v4j75ZEY",
        "outputId": "a6fb6441-dc65-4c37-8a62-55637d2fd931"
      },
      "execution_count": null,
      "outputs": [
        {
          "output_type": "stream",
          "name": "stdout",
          "text": [
            "<class 'pandas.core.frame.DataFrame'>\n",
            "RangeIndex: 25 entries, 0 to 24\n",
            "Data columns (total 2 columns):\n",
            " #   Column  Non-Null Count  Dtype  \n",
            "---  ------  --------------  -----  \n",
            " 0   Hours   25 non-null     float64\n",
            " 1   Scores  25 non-null     int64  \n",
            "dtypes: float64(1), int64(1)\n",
            "memory usage: 528.0 bytes\n"
          ]
        }
      ]
    },
    {
      "cell_type": "markdown",
      "source": [
        "Pada data tersebut didapat sebuah informasi bahwa ada 2 kolom dengan masing masing type data pada index 0 atau Hours yaitu float dan Scores integer."
      ],
      "metadata": {
        "id": "mMhxQqwbavH6"
      }
    },
    {
      "cell_type": "code",
      "source": [
        "# Disini untuk menampilkan data statistikal dasar dari kumpulan data yang kita\n",
        "data.describe()"
      ],
      "metadata": {
        "colab": {
          "base_uri": "https://localhost:8080/",
          "height": 300
        },
        "id": "9G_AyALnbjL4",
        "outputId": "d1c2b610-4e5d-4343-d7b0-693c7056eb66"
      },
      "execution_count": null,
      "outputs": [
        {
          "output_type": "execute_result",
          "data": {
            "text/plain": [
              "           Hours     Scores\n",
              "count  25.000000  25.000000\n",
              "mean    5.012000  51.480000\n",
              "std     2.525094  25.286887\n",
              "min     1.100000  17.000000\n",
              "25%     2.700000  30.000000\n",
              "50%     4.800000  47.000000\n",
              "75%     7.400000  75.000000\n",
              "max     9.200000  95.000000"
            ],
            "text/html": [
              "\n",
              "  <div id=\"df-76436e1c-02e4-42cb-a14b-1b35b443ba9e\" class=\"colab-df-container\">\n",
              "    <div>\n",
              "<style scoped>\n",
              "    .dataframe tbody tr th:only-of-type {\n",
              "        vertical-align: middle;\n",
              "    }\n",
              "\n",
              "    .dataframe tbody tr th {\n",
              "        vertical-align: top;\n",
              "    }\n",
              "\n",
              "    .dataframe thead th {\n",
              "        text-align: right;\n",
              "    }\n",
              "</style>\n",
              "<table border=\"1\" class=\"dataframe\">\n",
              "  <thead>\n",
              "    <tr style=\"text-align: right;\">\n",
              "      <th></th>\n",
              "      <th>Hours</th>\n",
              "      <th>Scores</th>\n",
              "    </tr>\n",
              "  </thead>\n",
              "  <tbody>\n",
              "    <tr>\n",
              "      <th>count</th>\n",
              "      <td>25.000000</td>\n",
              "      <td>25.000000</td>\n",
              "    </tr>\n",
              "    <tr>\n",
              "      <th>mean</th>\n",
              "      <td>5.012000</td>\n",
              "      <td>51.480000</td>\n",
              "    </tr>\n",
              "    <tr>\n",
              "      <th>std</th>\n",
              "      <td>2.525094</td>\n",
              "      <td>25.286887</td>\n",
              "    </tr>\n",
              "    <tr>\n",
              "      <th>min</th>\n",
              "      <td>1.100000</td>\n",
              "      <td>17.000000</td>\n",
              "    </tr>\n",
              "    <tr>\n",
              "      <th>25%</th>\n",
              "      <td>2.700000</td>\n",
              "      <td>30.000000</td>\n",
              "    </tr>\n",
              "    <tr>\n",
              "      <th>50%</th>\n",
              "      <td>4.800000</td>\n",
              "      <td>47.000000</td>\n",
              "    </tr>\n",
              "    <tr>\n",
              "      <th>75%</th>\n",
              "      <td>7.400000</td>\n",
              "      <td>75.000000</td>\n",
              "    </tr>\n",
              "    <tr>\n",
              "      <th>max</th>\n",
              "      <td>9.200000</td>\n",
              "      <td>95.000000</td>\n",
              "    </tr>\n",
              "  </tbody>\n",
              "</table>\n",
              "</div>\n",
              "    <div class=\"colab-df-buttons\">\n",
              "\n",
              "  <div class=\"colab-df-container\">\n",
              "    <button class=\"colab-df-convert\" onclick=\"convertToInteractive('df-76436e1c-02e4-42cb-a14b-1b35b443ba9e')\"\n",
              "            title=\"Convert this dataframe to an interactive table.\"\n",
              "            style=\"display:none;\">\n",
              "\n",
              "  <svg xmlns=\"http://www.w3.org/2000/svg\" height=\"24px\" viewBox=\"0 -960 960 960\">\n",
              "    <path d=\"M120-120v-720h720v720H120Zm60-500h600v-160H180v160Zm220 220h160v-160H400v160Zm0 220h160v-160H400v160ZM180-400h160v-160H180v160Zm440 0h160v-160H620v160ZM180-180h160v-160H180v160Zm440 0h160v-160H620v160Z\"/>\n",
              "  </svg>\n",
              "    </button>\n",
              "\n",
              "  <style>\n",
              "    .colab-df-container {\n",
              "      display:flex;\n",
              "      gap: 12px;\n",
              "    }\n",
              "\n",
              "    .colab-df-convert {\n",
              "      background-color: #E8F0FE;\n",
              "      border: none;\n",
              "      border-radius: 50%;\n",
              "      cursor: pointer;\n",
              "      display: none;\n",
              "      fill: #1967D2;\n",
              "      height: 32px;\n",
              "      padding: 0 0 0 0;\n",
              "      width: 32px;\n",
              "    }\n",
              "\n",
              "    .colab-df-convert:hover {\n",
              "      background-color: #E2EBFA;\n",
              "      box-shadow: 0px 1px 2px rgba(60, 64, 67, 0.3), 0px 1px 3px 1px rgba(60, 64, 67, 0.15);\n",
              "      fill: #174EA6;\n",
              "    }\n",
              "\n",
              "    .colab-df-buttons div {\n",
              "      margin-bottom: 4px;\n",
              "    }\n",
              "\n",
              "    [theme=dark] .colab-df-convert {\n",
              "      background-color: #3B4455;\n",
              "      fill: #D2E3FC;\n",
              "    }\n",
              "\n",
              "    [theme=dark] .colab-df-convert:hover {\n",
              "      background-color: #434B5C;\n",
              "      box-shadow: 0px 1px 3px 1px rgba(0, 0, 0, 0.15);\n",
              "      filter: drop-shadow(0px 1px 2px rgba(0, 0, 0, 0.3));\n",
              "      fill: #FFFFFF;\n",
              "    }\n",
              "  </style>\n",
              "\n",
              "    <script>\n",
              "      const buttonEl =\n",
              "        document.querySelector('#df-76436e1c-02e4-42cb-a14b-1b35b443ba9e button.colab-df-convert');\n",
              "      buttonEl.style.display =\n",
              "        google.colab.kernel.accessAllowed ? 'block' : 'none';\n",
              "\n",
              "      async function convertToInteractive(key) {\n",
              "        const element = document.querySelector('#df-76436e1c-02e4-42cb-a14b-1b35b443ba9e');\n",
              "        const dataTable =\n",
              "          await google.colab.kernel.invokeFunction('convertToInteractive',\n",
              "                                                    [key], {});\n",
              "        if (!dataTable) return;\n",
              "\n",
              "        const docLinkHtml = 'Like what you see? Visit the ' +\n",
              "          '<a target=\"_blank\" href=https://colab.research.google.com/notebooks/data_table.ipynb>data table notebook</a>'\n",
              "          + ' to learn more about interactive tables.';\n",
              "        element.innerHTML = '';\n",
              "        dataTable['output_type'] = 'display_data';\n",
              "        await google.colab.output.renderOutput(dataTable, element);\n",
              "        const docLink = document.createElement('div');\n",
              "        docLink.innerHTML = docLinkHtml;\n",
              "        element.appendChild(docLink);\n",
              "      }\n",
              "    </script>\n",
              "  </div>\n",
              "\n",
              "\n",
              "<div id=\"df-0cdd849c-1f7d-4ca5-9731-87e75ef6cd5a\">\n",
              "  <button class=\"colab-df-quickchart\" onclick=\"quickchart('df-0cdd849c-1f7d-4ca5-9731-87e75ef6cd5a')\"\n",
              "            title=\"Suggest charts\"\n",
              "            style=\"display:none;\">\n",
              "\n",
              "<svg xmlns=\"http://www.w3.org/2000/svg\" height=\"24px\"viewBox=\"0 0 24 24\"\n",
              "     width=\"24px\">\n",
              "    <g>\n",
              "        <path d=\"M19 3H5c-1.1 0-2 .9-2 2v14c0 1.1.9 2 2 2h14c1.1 0 2-.9 2-2V5c0-1.1-.9-2-2-2zM9 17H7v-7h2v7zm4 0h-2V7h2v10zm4 0h-2v-4h2v4z\"/>\n",
              "    </g>\n",
              "</svg>\n",
              "  </button>\n",
              "\n",
              "<style>\n",
              "  .colab-df-quickchart {\n",
              "      --bg-color: #E8F0FE;\n",
              "      --fill-color: #1967D2;\n",
              "      --hover-bg-color: #E2EBFA;\n",
              "      --hover-fill-color: #174EA6;\n",
              "      --disabled-fill-color: #AAA;\n",
              "      --disabled-bg-color: #DDD;\n",
              "  }\n",
              "\n",
              "  [theme=dark] .colab-df-quickchart {\n",
              "      --bg-color: #3B4455;\n",
              "      --fill-color: #D2E3FC;\n",
              "      --hover-bg-color: #434B5C;\n",
              "      --hover-fill-color: #FFFFFF;\n",
              "      --disabled-bg-color: #3B4455;\n",
              "      --disabled-fill-color: #666;\n",
              "  }\n",
              "\n",
              "  .colab-df-quickchart {\n",
              "    background-color: var(--bg-color);\n",
              "    border: none;\n",
              "    border-radius: 50%;\n",
              "    cursor: pointer;\n",
              "    display: none;\n",
              "    fill: var(--fill-color);\n",
              "    height: 32px;\n",
              "    padding: 0;\n",
              "    width: 32px;\n",
              "  }\n",
              "\n",
              "  .colab-df-quickchart:hover {\n",
              "    background-color: var(--hover-bg-color);\n",
              "    box-shadow: 0 1px 2px rgba(60, 64, 67, 0.3), 0 1px 3px 1px rgba(60, 64, 67, 0.15);\n",
              "    fill: var(--button-hover-fill-color);\n",
              "  }\n",
              "\n",
              "  .colab-df-quickchart-complete:disabled,\n",
              "  .colab-df-quickchart-complete:disabled:hover {\n",
              "    background-color: var(--disabled-bg-color);\n",
              "    fill: var(--disabled-fill-color);\n",
              "    box-shadow: none;\n",
              "  }\n",
              "\n",
              "  .colab-df-spinner {\n",
              "    border: 2px solid var(--fill-color);\n",
              "    border-color: transparent;\n",
              "    border-bottom-color: var(--fill-color);\n",
              "    animation:\n",
              "      spin 1s steps(1) infinite;\n",
              "  }\n",
              "\n",
              "  @keyframes spin {\n",
              "    0% {\n",
              "      border-color: transparent;\n",
              "      border-bottom-color: var(--fill-color);\n",
              "      border-left-color: var(--fill-color);\n",
              "    }\n",
              "    20% {\n",
              "      border-color: transparent;\n",
              "      border-left-color: var(--fill-color);\n",
              "      border-top-color: var(--fill-color);\n",
              "    }\n",
              "    30% {\n",
              "      border-color: transparent;\n",
              "      border-left-color: var(--fill-color);\n",
              "      border-top-color: var(--fill-color);\n",
              "      border-right-color: var(--fill-color);\n",
              "    }\n",
              "    40% {\n",
              "      border-color: transparent;\n",
              "      border-right-color: var(--fill-color);\n",
              "      border-top-color: var(--fill-color);\n",
              "    }\n",
              "    60% {\n",
              "      border-color: transparent;\n",
              "      border-right-color: var(--fill-color);\n",
              "    }\n",
              "    80% {\n",
              "      border-color: transparent;\n",
              "      border-right-color: var(--fill-color);\n",
              "      border-bottom-color: var(--fill-color);\n",
              "    }\n",
              "    90% {\n",
              "      border-color: transparent;\n",
              "      border-bottom-color: var(--fill-color);\n",
              "    }\n",
              "  }\n",
              "</style>\n",
              "\n",
              "  <script>\n",
              "    async function quickchart(key) {\n",
              "      const quickchartButtonEl =\n",
              "        document.querySelector('#' + key + ' button');\n",
              "      quickchartButtonEl.disabled = true;  // To prevent multiple clicks.\n",
              "      quickchartButtonEl.classList.add('colab-df-spinner');\n",
              "      try {\n",
              "        const charts = await google.colab.kernel.invokeFunction(\n",
              "            'suggestCharts', [key], {});\n",
              "      } catch (error) {\n",
              "        console.error('Error during call to suggestCharts:', error);\n",
              "      }\n",
              "      quickchartButtonEl.classList.remove('colab-df-spinner');\n",
              "      quickchartButtonEl.classList.add('colab-df-quickchart-complete');\n",
              "    }\n",
              "    (() => {\n",
              "      let quickchartButtonEl =\n",
              "        document.querySelector('#df-0cdd849c-1f7d-4ca5-9731-87e75ef6cd5a button');\n",
              "      quickchartButtonEl.style.display =\n",
              "        google.colab.kernel.accessAllowed ? 'block' : 'none';\n",
              "    })();\n",
              "  </script>\n",
              "</div>\n",
              "    </div>\n",
              "  </div>\n"
            ],
            "application/vnd.google.colaboratory.intrinsic+json": {
              "type": "dataframe",
              "summary": "{\n  \"name\": \"data\",\n  \"rows\": 8,\n  \"fields\": [\n    {\n      \"column\": \"Hours\",\n      \"properties\": {\n        \"dtype\": \"number\",\n        \"std\": 7.660098285663746,\n        \"min\": 1.1,\n        \"max\": 25.0,\n        \"num_unique_values\": 8,\n        \"samples\": [\n          5.012,\n          4.8,\n          25.0\n        ],\n        \"semantic_type\": \"\",\n        \"description\": \"\"\n      }\n    },\n    {\n      \"column\": \"Scores\",\n      \"properties\": {\n        \"dtype\": \"number\",\n        \"std\": 27.358571628410314,\n        \"min\": 17.0,\n        \"max\": 95.0,\n        \"num_unique_values\": 8,\n        \"samples\": [\n          51.48,\n          47.0,\n          25.0\n        ],\n        \"semantic_type\": \"\",\n        \"description\": \"\"\n      }\n    }\n  ]\n}"
            }
          },
          "metadata": {},
          "execution_count": 24
        }
      ]
    },
    {
      "cell_type": "code",
      "source": [
        "# Plot = plot yang ditampilkan dari scatter plot akan membantu kita untuk\n",
        "# menjelaskan nilai yang ada dan memberikan kita gambaran korelasi yang ada.\n",
        "\n",
        "\n",
        "plt.figure(figsize=(9,5))\n",
        "sns.pairplot(data,x_vars=['Hours'],y_vars=['Scores'],size=7,kind='scatter')\n",
        "plt.xlabel('Hours')\n",
        "plt.ylabel('Scores')\n",
        "plt.title('Score Prediction')\n",
        "plt.show()"
      ],
      "metadata": {
        "id": "VCn55whetcCg",
        "colab": {
          "base_uri": "https://localhost:8080/",
          "height": 806
        },
        "outputId": "bdf252b1-e4cc-4003-bb83-87dca32db5a2"
      },
      "execution_count": null,
      "outputs": [
        {
          "output_type": "stream",
          "name": "stderr",
          "text": [
            "/usr/local/lib/python3.10/dist-packages/seaborn/axisgrid.py:2100: UserWarning: The `size` parameter has been renamed to `height`; please update your code.\n",
            "  warnings.warn(msg, UserWarning)\n"
          ]
        },
        {
          "output_type": "display_data",
          "data": {
            "text/plain": [
              "<Figure size 900x500 with 0 Axes>"
            ]
          },
          "metadata": {}
        },
        {
          "output_type": "display_data",
          "data": {
            "text/plain": [
              "<Figure size 700x700 with 1 Axes>"
            ],
            "image/png": "[encoded data removed]"
          },
          "metadata": {}
        }
      ]
    },
    {
      "cell_type": "markdown",
      "source": [
        "Kita bisa mengambil kesimpulan dari data yang disajikan bahwa korelasi yang dicapai merupakan **korelasi positif** yang berarti satu variabel meningkat seiring\n",
        "dengan peningkatan variabel lainnya, atau satu variabel menurun\n",
        "sedangkan variabel lainnya juga menurun. Semakin banyak jam belajar maka semakin tinggi nilainya."
      ],
      "metadata": {
        "id": "5XxY5iAPcVwH"
      }
    },
    {
      "cell_type": "markdown",
      "source": [
        "# Feature Engineering\n",
        "Melakukan feature engineering berfungsi untuk pembuatan, modifikasi, atau pemilihan fitur (variabel) dari data mentah untuk meningkatkan kinerja model machine learning. Fitur yang baik dapat membantu model machine learning untuk memahami data lebih baik dan membuat prediksi yang lebih akurat.\n",
        "\n",
        "1.   Check Duplicated Data\n",
        "\n",
        "1.   Check Missing Value Handling\n",
        "2.   Outlier Analysis\n",
        "\n",
        "\n",
        "\n",
        "\n",
        "\n",
        "\n",
        "\n"
      ],
      "metadata": {
        "id": "9Ovz-4NN6T4E"
      }
    },
    {
      "cell_type": "markdown",
      "source": [
        "### Investigate of Feature Engineering"
      ],
      "metadata": {
        "id": "LMbLIwB56-iM"
      }
    },
    {
      "cell_type": "code",
      "source": [
        "df = data.copy()\n",
        "print(\"Data Sebelum pemeriksaan Duplicate\")\n",
        "print(df.shape)\n"
      ],
      "metadata": {
        "id": "CVYPJk5etcAA",
        "colab": {
          "base_uri": "https://localhost:8080/"
        },
        "outputId": "38ccbfdf-559e-4ad7-9c21-cf6b996666e5"
      },
      "execution_count": null,
      "outputs": [
        {
          "output_type": "stream",
          "name": "stdout",
          "text": [
            "Data Sebelum pemeriksaan Duplicate\n",
            "(25, 2)\n"
          ]
        }
      ]
    },
    {
      "cell_type": "code",
      "source": [
        "#Melakukan chek dan membuang jika terdapat data yang duplikat\n",
        "duplicate_rows_before = df[df.duplicated()]\n",
        "duplicate_rows_before\n",
        "df = df.drop_duplicates()\n",
        "print(\"Data Sesudah pemeriksaan Duplicate\")\n",
        "print(df.shape)"
      ],
      "metadata": {
        "colab": {
          "base_uri": "https://localhost:8080/"
        },
        "id": "ruNzlTrR9ry-",
        "outputId": "4d431f04-f371-46ea-bcc7-6f7f2eccc89f"
      },
      "execution_count": null,
      "outputs": [
        {
          "output_type": "stream",
          "name": "stdout",
          "text": [
            "Data Sesudah pemeriksaan Duplicate\n",
            "(25, 2)\n"
          ]
        }
      ]
    },
    {
      "cell_type": "markdown",
      "source": [
        "# Chek missing Value Handling"
      ],
      "metadata": {
        "id": "W5Q7WrMSed3U"
      }
    },
    {
      "cell_type": "code",
      "source": [
        "#Memeriksa nilai yang null atau kosong\n",
        "df.isna().sum()"
      ],
      "metadata": {
        "id": "qogl9DQItb9P",
        "colab": {
          "base_uri": "https://localhost:8080/"
        },
        "outputId": "0c743198-1e0f-4baa-e748-ddd77bc31903"
      },
      "execution_count": null,
      "outputs": [
        {
          "output_type": "execute_result",
          "data": {
            "text/plain": [
              "Hours     0\n",
              "Scores    0\n",
              "dtype: int64"
            ]
          },
          "metadata": {},
          "execution_count": 28
        }
      ]
    },
    {
      "cell_type": "markdown",
      "source": [
        "Dari hasil yang sudah dilakukan ,didapat angka nol yang berarti sudah tidak ada data null, dan juga telah membersihkan data dari duplikasi data."
      ],
      "metadata": {
        "id": "IuJ6ejtgeKIj"
      }
    },
    {
      "cell_type": "markdown",
      "source": [
        "# Outlier Analysis"
      ],
      "metadata": {
        "id": "1pKtiIDQembb"
      }
    },
    {
      "cell_type": "code",
      "source": [
        "# Outlier Analysis\n",
        "sns.boxplot(x=\"Hours\", data=df)\n",
        "\n",
        "# Menambahkan label sumbu dan judul\n",
        "plt.xlabel(\"Hours of study\")\n",
        "plt.ylabel(\"Scores\")\n",
        "plt.title(\"Boxplot Score Prediction\")\n",
        "\n",
        "# Menampilkan plot\n",
        "plt.show()"
      ],
      "metadata": {
        "id": "RsBRwW1Dtb6C",
        "colab": {
          "base_uri": "https://localhost:8080/",
          "height": 472
        },
        "outputId": "c037fb82-8b6b-4cd1-c04d-9e0c3201688f"
      },
      "execution_count": null,
      "outputs": [
        {
          "output_type": "display_data",
          "data": {
            "text/plain": [
              "<Figure size 640x480 with 1 Axes>"
            ],
            "image/png": "[encoded data removed]"
          },
          "metadata": {}
        }
      ]
    },
    {
      "cell_type": "markdown",
      "source": [
        "### Tidak ada nilai outlier\n",
        "berarti tidak ada masalah data yang keluar dari topik yang kita mau modeling kan, semua data masih masuk kedalam lingkup yang kita buat."
      ],
      "metadata": {
        "id": "LxAxW5I_-spx"
      }
    },
    {
      "cell_type": "markdown",
      "source": [
        "### Splitting the data\n",
        "Selanjutnya kita melakukan pemodelan training dan membagi data menjadi X_train, X_test -> Predictor, y_train, y_test -> variabel target. Jika terdapat permasalahan dalam investigasi maka dilakukan pemisahan data dan proses penanganan rekayasa fitur."
      ],
      "metadata": {
        "id": "5aAaipmg-uVS"
      }
    },
    {
      "cell_type": "code",
      "source": [
        "# Student Hours\n",
        "X = data['Hours']\n",
        "# X = data[data['kolom_1','kolom_2',...,'kolom_n']]\n",
        "X.head()"
      ],
      "metadata": {
        "colab": {
          "base_uri": "https://localhost:8080/"
        },
        "id": "BON8XhpR-yJx",
        "outputId": "7802839a-1a5c-47c1-c622-df1a9cda5adc"
      },
      "execution_count": null,
      "outputs": [
        {
          "output_type": "execute_result",
          "data": {
            "text/plain": [
              "0    2.5\n",
              "1    5.1\n",
              "2    3.2\n",
              "3    8.5\n",
              "4    3.5\n",
              "Name: Hours, dtype: float64"
            ]
          },
          "metadata": {},
          "execution_count": 30
        }
      ]
    },
    {
      "cell_type": "code",
      "source": [
        "# Student Scores\n",
        "y = data['Scores']\n",
        "# y = data[data['kolom_1','kolom_2',...,'kolom_n']]\n",
        "y.head()"
      ],
      "metadata": {
        "colab": {
          "base_uri": "https://localhost:8080/"
        },
        "id": "LkMh0e-j_L_o",
        "outputId": "900c3e09-9fb3-44d1-e8d6-0296204fd666"
      },
      "execution_count": null,
      "outputs": [
        {
          "output_type": "execute_result",
          "data": {
            "text/plain": [
              "0    21\n",
              "1    47\n",
              "2    27\n",
              "3    75\n",
              "4    30\n",
              "Name: Scores, dtype: int64"
            ]
          },
          "metadata": {},
          "execution_count": 31
        }
      ]
    },
    {
      "cell_type": "code",
      "source": [
        "# Import machine learning data from scikit learn\n",
        "from sklearn.model_selection import train_test_split"
      ],
      "metadata": {
        "id": "kw36TYaa_eGJ"
      },
      "execution_count": null,
      "outputs": []
    },
    {
      "cell_type": "code",
      "source": [
        "# Split the data for train and test\n",
        "X_train,X_test,y_train,y_test = train_test_split(X,y,train_size=0.75,random_state=42)"
      ],
      "metadata": {
        "id": "w-g20u7f_hEH"
      },
      "execution_count": null,
      "outputs": []
    },
    {
      "cell_type": "markdown",
      "source": [
        "# **Model Linear Regression**"
      ],
      "metadata": {
        "id": "1wiJKM8P_jh6"
      }
    },
    {
      "cell_type": "code",
      "source": [
        "# Importing Linear Regression model from scikit learn\n",
        "from sklearn.linear_model import LinearRegression"
      ],
      "metadata": {
        "id": "CdMJnjt-_rgz"
      },
      "execution_count": null,
      "outputs": []
    },
    {
      "cell_type": "code",
      "source": [
        "# Membuat axis baru untuk kolom x didalam array\n",
        "X_train = np.array(X_train)[:, np.newaxis]\n",
        "X_test = np.array(X_test)[:, np.newaxis]"
      ],
      "metadata": {
        "id": "RhW-Y4MGJ1Ps"
      },
      "execution_count": null,
      "outputs": []
    },
    {
      "cell_type": "code",
      "source": [
        "#array\n",
        "X_train"
      ],
      "metadata": {
        "colab": {
          "base_uri": "https://localhost:8080/"
        },
        "id": "ARZilgYGJ445",
        "outputId": "dfb630f6-4661-4130-a2a3-e03da40bcb96"
      },
      "execution_count": null,
      "outputs": [
        {
          "output_type": "execute_result",
          "data": {
            "text/plain": [
              "array([[5.1],\n",
              "       [3.8],\n",
              "       [1.5],\n",
              "       [3.2],\n",
              "       [4.5],\n",
              "       [8.9],\n",
              "       [8.5],\n",
              "       [3.5],\n",
              "       [2.7],\n",
              "       [1.9],\n",
              "       [4.8],\n",
              "       [6.1],\n",
              "       [7.8],\n",
              "       [5.5],\n",
              "       [7.7],\n",
              "       [1.1],\n",
              "       [7.4],\n",
              "       [9.2]])"
            ]
          },
          "metadata": {},
          "execution_count": 36
        }
      ]
    },
    {
      "cell_type": "code",
      "source": [
        "#array\n",
        "X_test"
      ],
      "metadata": {
        "colab": {
          "base_uri": "https://localhost:8080/"
        },
        "id": "xP3vdpwgJ86K",
        "outputId": "f81bd797-77e4-48ed-9b54-4af25b9f8f8c"
      },
      "execution_count": null,
      "outputs": [
        {
          "output_type": "execute_result",
          "data": {
            "text/plain": [
              "array([[8.3],\n",
              "       [2.5],\n",
              "       [2.5],\n",
              "       [6.9],\n",
              "       [5.9],\n",
              "       [2.7],\n",
              "       [3.3]])"
            ]
          },
          "metadata": {},
          "execution_count": 37
        }
      ]
    },
    {
      "cell_type": "code",
      "source": [
        "y_train"
      ],
      "metadata": {
        "colab": {
          "base_uri": "https://localhost:8080/"
        },
        "id": "Wa8yf4BtKC6d",
        "outputId": "f974f98d-6970-48c4-d61a-98d1060e444d"
      },
      "execution_count": null,
      "outputs": [
        {
          "output_type": "execute_result",
          "data": {
            "text/plain": [
              "1     47\n",
              "22    35\n",
              "5     20\n",
              "2     27\n",
              "12    41\n",
              "15    95\n",
              "3     75\n",
              "4     30\n",
              "20    30\n",
              "17    24\n",
              "21    54\n",
              "18    67\n",
              "24    86\n",
              "7     60\n",
              "10    85\n",
              "14    17\n",
              "19    69\n",
              "6     88\n",
              "Name: Scores, dtype: int64"
            ]
          },
          "metadata": {},
          "execution_count": 38
        }
      ]
    },
    {
      "cell_type": "code",
      "source": [
        "# Melakukan Fitting model menggunakan Linear Regression\n",
        "lr_model = LinearRegression()\n",
        "lr_model.fit(X_train,y_train)"
      ],
      "metadata": {
        "colab": {
          "base_uri": "https://localhost:8080/",
          "height": 75
        },
        "id": "meapkXOCKZcL",
        "outputId": "82da6f43-2604-4c4c-8a58-9041ad0a2ff5"
      },
      "execution_count": null,
      "outputs": [
        {
          "output_type": "execute_result",
          "data": {
            "text/plain": [
              "LinearRegression()"
            ],
            "text/html": [
              "<style>#sk-container-id-1 {color: black;background-color: white;}#sk-container-id-1 pre{padding: 0;}#sk-container-id-1 div.sk-toggleable {background-color: white;}#sk-container-id-1 label.sk-toggleable__label {cursor: pointer;display: block;width: 100%;margin-bottom: 0;padding: 0.3em;box-sizing: border-box;text-align: center;}#sk-container-id-1 label.sk-toggleable__label-arrow:before {content: \"▸\";float: left;margin-right: 0.25em;color: #696969;}#sk-container-id-1 label.sk-toggleable__label-arrow:hover:before {color: black;}#sk-container-id-1 div.sk-estimator:hover label.sk-toggleable__label-arrow:before {color: black;}#sk-container-id-1 div.sk-toggleable__content {max-height: 0;max-width: 0;overflow: hidden;text-align: left;background-color: #f0f8ff;}#sk-container-id-1 div.sk-toggleable__content pre {margin: 0.2em;color: black;border-radius: 0.25em;background-color: #f0f8ff;}#sk-container-id-1 input.sk-toggleable__control:checked~div.sk-toggleable__content {max-height: 200px;max-width: 100%;overflow: auto;}#sk-container-id-1 input.sk-toggleable__control:checked~label.sk-toggleable__label-arrow:before {content: \"▾\";}#sk-container-id-1 div.sk-estimator input.sk-toggleable__control:checked~label.sk-toggleable__label {background-color: #d4ebff;}#sk-container-id-1 div.sk-label input.sk-toggleable__control:checked~label.sk-toggleable__label {background-color: #d4ebff;}#sk-container-id-1 input.sk-hidden--visually {border: 0;clip: rect(1px 1px 1px 1px);clip: rect(1px, 1px, 1px, 1px);height: 1px;margin: -1px;overflow: hidden;padding: 0;position: absolute;width: 1px;}#sk-container-id-1 div.sk-estimator {font-family: monospace;background-color: #f0f8ff;border: 1px dotted black;border-radius: 0.25em;box-sizing: border-box;margin-bottom: 0.5em;}#sk-container-id-1 div.sk-estimator:hover {background-color: #d4ebff;}#sk-container-id-1 div.sk-parallel-item::after {content: \"\";width: 100%;border-bottom: 1px solid gray;flex-grow: 1;}#sk-container-id-1 div.sk-label:hover label.sk-toggleable__label {background-color: #d4ebff;}#sk-container-id-1 div.sk-serial::before {content: \"\";position: absolute;border-left: 1px solid gray;box-sizing: border-box;top: 0;bottom: 0;left: 50%;z-index: 0;}#sk-container-id-1 div.sk-serial {display: flex;flex-direction: column;align-items: center;background-color: white;padding-right: 0.2em;padding-left: 0.2em;position: relative;}#sk-container-id-1 div.sk-item {position: relative;z-index: 1;}#sk-container-id-1 div.sk-parallel {display: flex;align-items: stretch;justify-content: center;background-color: white;position: relative;}#sk-container-id-1 div.sk-item::before, #sk-container-id-1 div.sk-parallel-item::before {content: \"\";position: absolute;border-left: 1px solid gray;box-sizing: border-box;top: 0;bottom: 0;left: 50%;z-index: -1;}#sk-container-id-1 div.sk-parallel-item {display: flex;flex-direction: column;z-index: 1;position: relative;background-color: white;}#sk-container-id-1 div.sk-parallel-item:first-child::after {align-self: flex-end;width: 50%;}#sk-container-id-1 div.sk-parallel-item:last-child::after {align-self: flex-start;width: 50%;}#sk-container-id-1 div.sk-parallel-item:only-child::after {width: 0;}#sk-container-id-1 div.sk-dashed-wrapped {border: 1px dashed gray;margin: 0 0.4em 0.5em 0.4em;box-sizing: border-box;padding-bottom: 0.4em;background-color: white;}#sk-container-id-1 div.sk-label label {font-family: monospace;font-weight: bold;display: inline-block;line-height: 1.2em;}#sk-container-id-1 div.sk-label-container {text-align: center;}#sk-container-id-1 div.sk-container {/* jupyter's `normalize.less` sets `[hidden] { display: none; }` but bootstrap.min.css set `[hidden] { display: none !important; }` so we also need the `!important` here to be able to override the default hidden behavior on the sphinx rendered scikit-learn.org. See: https://github.com/scikit-learn/scikit-learn/issues/21755 */display: inline-block !important;position: relative;}#sk-container-id-1 div.sk-text-repr-fallback {display: none;}</style><div id=\"sk-container-id-1\" class=\"sk-top-container\"><div class=\"sk-text-repr-fallback\"><pre>LinearRegression()</pre><b>In a Jupyter environment, please rerun this cell to show the HTML representation or trust the notebook. <br />On GitHub, the HTML representation is unable to render, please try loading this page with nbviewer.org.</b></div><div class=\"sk-container\" hidden><div class=\"sk-item\"><div class=\"sk-estimator sk-toggleable\"><input class=\"sk-toggleable__control sk-hidden--visually\" id=\"sk-estimator-id-1\" type=\"checkbox\" checked><label for=\"sk-estimator-id-1\" class=\"sk-toggleable__label sk-toggleable__label-arrow\">LinearRegression</label><div class=\"sk-toggleable__content\"><pre>LinearRegression()</pre></div></div></div></div></div>"
            ]
          },
          "metadata": {},
          "execution_count": 39
        }
      ]
    },
    {
      "cell_type": "code",
      "source": [
        "# Predicting the Scores for the Test values\n",
        "y_pred = lr_model.predict(X_test)\n",
        "# y_pred_train = lr_model.predict(X_train)"
      ],
      "metadata": {
        "id": "5vAkrWgTKdIk"
      },
      "execution_count": null,
      "outputs": []
    },
    {
      "cell_type": "code",
      "source": [
        "X_test"
      ],
      "metadata": {
        "colab": {
          "base_uri": "https://localhost:8080/"
        },
        "id": "GTuY0Lp6Kh79",
        "outputId": "36bc78af-32d0-430b-8e2f-bec0dbb51d6b"
      },
      "execution_count": null,
      "outputs": [
        {
          "output_type": "execute_result",
          "data": {
            "text/plain": [
              "array([[8.3],\n",
              "       [2.5],\n",
              "       [2.5],\n",
              "       [6.9],\n",
              "       [5.9],\n",
              "       [2.7],\n",
              "       [3.3]])"
            ]
          },
          "metadata": {},
          "execution_count": 41
        }
      ]
    },
    {
      "cell_type": "code",
      "source": [
        "y_pred"
      ],
      "metadata": {
        "colab": {
          "base_uri": "https://localhost:8080/"
        },
        "id": "HtblCLByKkpt",
        "outputId": "b615970a-9141-4cd8-e9e5-856bbde87237"
      },
      "execution_count": null,
      "outputs": [
        {
          "output_type": "execute_result",
          "data": {
            "text/plain": [
              "array([83.10733229, 26.76559757, 26.76559757, 69.50760322, 59.79351103,\n",
              "       28.70841601, 34.53687133])"
            ]
          },
          "metadata": {},
          "execution_count": 42
        }
      ]
    },
    {
      "cell_type": "markdown",
      "source": [
        "# Plotting the actual and predicted values Linear Regression"
      ],
      "metadata": {
        "id": "f6SW29-IM84L"
      }
    },
    {
      "cell_type": "code",
      "source": [
        "# Plotting the actual and predicted values\n",
        "\n",
        "c = [i for i in range (1,len(y_test)+1,1)]\n",
        "plt.plot(c,y_test,color='r',linestyle='-',label='Actual Data')\n",
        "plt.plot(c,y_pred,color='b',linestyle='dashed',label='Prediction')\n",
        "plt.xlabel('Scores')\n",
        "plt.ylabel('index')\n",
        "plt.title('Prediction with Linear Regression')\n",
        "plt.legend()\n",
        "plt.show()"
      ],
      "metadata": {
        "colab": {
          "base_uri": "https://localhost:8080/",
          "height": 472
        },
        "id": "7iARlNURLJOt",
        "outputId": "3bee6c3b-3d65-4410-899e-e50c39768de5"
      },
      "execution_count": null,
      "outputs": [
        {
          "output_type": "display_data",
          "data": {
            "text/plain": [
              "<Figure size 640x480 with 1 Axes>"
            ],
            "image/png": "[encoded data removed]"
          },
          "metadata": {}
        }
      ]
    },
    {
      "cell_type": "code",
      "source": [
        "# Importing metrics for the evaluation of the model\n",
        "from sklearn.metrics import r2_score,mean_squared_error\n",
        "\n",
        "# Calculate R square vale\n",
        "rsq = r2_score(y_test,y_pred)"
      ],
      "metadata": {
        "id": "5Q9o7TeFMFvB"
      },
      "execution_count": null,
      "outputs": []
    },
    {
      "cell_type": "markdown",
      "source": [
        "**Nilai R-Score Linear Regression**"
      ],
      "metadata": {
        "id": "N7kvdi77OIl9"
      }
    },
    {
      "cell_type": "code",
      "source": [
        "print('r square Linear Regression:',rsq)"
      ],
      "metadata": {
        "colab": {
          "base_uri": "https://localhost:8080/"
        },
        "id": "xL4sqkQAMMpe",
        "outputId": "233c8d8c-155e-4844-e128-d2fd1f644cba"
      },
      "execution_count": null,
      "outputs": [
        {
          "output_type": "stream",
          "name": "stdout",
          "text": [
            "r square Linear Regression: 0.9553509219739938\n"
          ]
        }
      ]
    },
    {
      "cell_type": "markdown",
      "source": [
        "Didapatkan lah score atau nilai r square pada linear regression berada pada angka 0.95 dimana hal ini tentunya cukup tinggi jika dilihat dari table berikut :"
      ],
      "metadata": {
        "id": "yxXT-5a4gDFB"
      }
    },
    {
      "cell_type": "markdown",
      "source": [
        "![image.png](data:image/png;base64,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)"
      ],
      "metadata": {
        "id": "Om0G36y6gwqT"
      }
    },
    {
      "cell_type": "markdown",
      "source": [
        "# Nilai intercept dan coef pada model Regression Linear"
      ],
      "metadata": {
        "id": "xtUGr0b3Mqa3"
      }
    },
    {
      "cell_type": "code",
      "source": [
        "# Intecept and coeff of the line\n",
        "print('Intercept of the Linear Regression model:',lr_model.intercept_)\n",
        "print('Coefficient of the line Linear Regression:',lr_model.coef_)\n",
        "# y = m x + c atau y = a x + b"
      ],
      "metadata": {
        "colab": {
          "base_uri": "https://localhost:8080/"
        },
        "id": "gFSq9hcIMcLf",
        "outputId": "4d160abf-9258-41d4-9e7e-af1b7082bf83"
      },
      "execution_count": null,
      "outputs": [
        {
          "output_type": "stream",
          "name": "stdout",
          "text": [
            "Intercept of the Linear Regression model: 2.4803670915057623\n",
            "Coefficient of the line Linear Regression: [9.71409219]\n"
          ]
        }
      ]
    },
    {
      "cell_type": "markdown",
      "source": [
        "Nilai intercept disini dilambangkan sebagai a atau alpha sedangkan nilai coefficient dilambangkan sebagai b atau betha"
      ],
      "metadata": {
        "id": "u3_LwN9YhgTD"
      }
    },
    {
      "cell_type": "markdown",
      "source": [
        "Jadi bisa dikatakan hasil pemodelan dari regresi linear adalah sebagai berikut\n",
        "# y = 24803.67 + 9714.092 x\n",
        "Dimana x adalah value atau nilai dari scores"
      ],
      "metadata": {
        "id": "yJa4pDV8MfoN"
      }
    },
    {
      "cell_type": "markdown",
      "source": [
        "**Pemodelan Decision Tree Regressor**"
      ],
      "metadata": {
        "id": "kmIws5GkNYio"
      }
    },
    {
      "cell_type": "code",
      "source": [
        "from sklearn.tree import DecisionTreeRegressor"
      ],
      "metadata": {
        "id": "0RHPlCoxNe7G"
      },
      "execution_count": null,
      "outputs": []
    },
    {
      "cell_type": "code",
      "source": [
        "dt_model = DecisionTreeRegressor()\n",
        "dt_model.fit(X_train, y_train)"
      ],
      "metadata": {
        "colab": {
          "base_uri": "https://localhost:8080/",
          "height": 75
        },
        "id": "SKX7gv9sNh4F",
        "outputId": "d5cd6592-3ccb-4913-a8c6-4f03993485d7"
      },
      "execution_count": null,
      "outputs": [
        {
          "output_type": "execute_result",
          "data": {
            "text/plain": [
              "DecisionTreeRegressor()"
            ],
            "text/html": [
              "<style>#sk-container-id-2 {color: black;background-color: white;}#sk-container-id-2 pre{padding: 0;}#sk-container-id-2 div.sk-toggleable {background-color: white;}#sk-container-id-2 label.sk-toggleable__label {cursor: pointer;display: block;width: 100%;margin-bottom: 0;padding: 0.3em;box-sizing: border-box;text-align: center;}#sk-container-id-2 label.sk-toggleable__label-arrow:before {content: \"▸\";float: left;margin-right: 0.25em;color: #696969;}#sk-container-id-2 label.sk-toggleable__label-arrow:hover:before {color: black;}#sk-container-id-2 div.sk-estimator:hover label.sk-toggleable__label-arrow:before {color: black;}#sk-container-id-2 div.sk-toggleable__content {max-height: 0;max-width: 0;overflow: hidden;text-align: left;background-color: #f0f8ff;}#sk-container-id-2 div.sk-toggleable__content pre {margin: 0.2em;color: black;border-radius: 0.25em;background-color: #f0f8ff;}#sk-container-id-2 input.sk-toggleable__control:checked~div.sk-toggleable__content {max-height: 200px;max-width: 100%;overflow: auto;}#sk-container-id-2 input.sk-toggleable__control:checked~label.sk-toggleable__label-arrow:before {content: \"▾\";}#sk-container-id-2 div.sk-estimator input.sk-toggleable__control:checked~label.sk-toggleable__label {background-color: #d4ebff;}#sk-container-id-2 div.sk-label input.sk-toggleable__control:checked~label.sk-toggleable__label {background-color: #d4ebff;}#sk-container-id-2 input.sk-hidden--visually {border: 0;clip: rect(1px 1px 1px 1px);clip: rect(1px, 1px, 1px, 1px);height: 1px;margin: -1px;overflow: hidden;padding: 0;position: absolute;width: 1px;}#sk-container-id-2 div.sk-estimator {font-family: monospace;background-color: #f0f8ff;border: 1px dotted black;border-radius: 0.25em;box-sizing: border-box;margin-bottom: 0.5em;}#sk-container-id-2 div.sk-estimator:hover {background-color: #d4ebff;}#sk-container-id-2 div.sk-parallel-item::after {content: \"\";width: 100%;border-bottom: 1px solid gray;flex-grow: 1;}#sk-container-id-2 div.sk-label:hover label.sk-toggleable__label {background-color: #d4ebff;}#sk-container-id-2 div.sk-serial::before {content: \"\";position: absolute;border-left: 1px solid gray;box-sizing: border-box;top: 0;bottom: 0;left: 50%;z-index: 0;}#sk-container-id-2 div.sk-serial {display: flex;flex-direction: column;align-items: center;background-color: white;padding-right: 0.2em;padding-left: 0.2em;position: relative;}#sk-container-id-2 div.sk-item {position: relative;z-index: 1;}#sk-container-id-2 div.sk-parallel {display: flex;align-items: stretch;justify-content: center;background-color: white;position: relative;}#sk-container-id-2 div.sk-item::before, #sk-container-id-2 div.sk-parallel-item::before {content: \"\";position: absolute;border-left: 1px solid gray;box-sizing: border-box;top: 0;bottom: 0;left: 50%;z-index: -1;}#sk-container-id-2 div.sk-parallel-item {display: flex;flex-direction: column;z-index: 1;position: relative;background-color: white;}#sk-container-id-2 div.sk-parallel-item:first-child::after {align-self: flex-end;width: 50%;}#sk-container-id-2 div.sk-parallel-item:last-child::after {align-self: flex-start;width: 50%;}#sk-container-id-2 div.sk-parallel-item:only-child::after {width: 0;}#sk-container-id-2 div.sk-dashed-wrapped {border: 1px dashed gray;margin: 0 0.4em 0.5em 0.4em;box-sizing: border-box;padding-bottom: 0.4em;background-color: white;}#sk-container-id-2 div.sk-label label {font-family: monospace;font-weight: bold;display: inline-block;line-height: 1.2em;}#sk-container-id-2 div.sk-label-container {text-align: center;}#sk-container-id-2 div.sk-container {/* jupyter's `normalize.less` sets `[hidden] { display: none; }` but bootstrap.min.css set `[hidden] { display: none !important; }` so we also need the `!important` here to be able to override the default hidden behavior on the sphinx rendered scikit-learn.org. See: https://github.com/scikit-learn/scikit-learn/issues/21755 */display: inline-block !important;position: relative;}#sk-container-id-2 div.sk-text-repr-fallback {display: none;}</style><div id=\"sk-container-id-2\" class=\"sk-top-container\"><div class=\"sk-text-repr-fallback\"><pre>DecisionTreeRegressor()</pre><b>In a Jupyter environment, please rerun this cell to show the HTML representation or trust the notebook. <br />On GitHub, the HTML representation is unable to render, please try loading this page with nbviewer.org.</b></div><div class=\"sk-container\" hidden><div class=\"sk-item\"><div class=\"sk-estimator sk-toggleable\"><input class=\"sk-toggleable__control sk-hidden--visually\" id=\"sk-estimator-id-2\" type=\"checkbox\" checked><label for=\"sk-estimator-id-2\" class=\"sk-toggleable__label sk-toggleable__label-arrow\">DecisionTreeRegressor</label><div class=\"sk-toggleable__content\"><pre>DecisionTreeRegressor()</pre></div></div></div></div></div>"
            ]
          },
          "metadata": {},
          "execution_count": 47
        }
      ]
    },
    {
      "cell_type": "code",
      "source": [
        "# Predicting the Scores for the Test values\n",
        "y_pred_dt = dt_model.predict(X_test)"
      ],
      "metadata": {
        "id": "3yNRi6zKNk4J"
      },
      "execution_count": null,
      "outputs": []
    },
    {
      "cell_type": "code",
      "source": [
        "y_pred_dt"
      ],
      "metadata": {
        "colab": {
          "base_uri": "https://localhost:8080/"
        },
        "id": "xOnwPzXDNons",
        "outputId": "21b511f0-8885-4ee8-8185-2e268595ffd7"
      },
      "execution_count": null,
      "outputs": [
        {
          "output_type": "execute_result",
          "data": {
            "text/plain": [
              "array([75., 30., 30., 69., 67., 30., 27.])"
            ]
          },
          "metadata": {},
          "execution_count": 49
        }
      ]
    },
    {
      "cell_type": "code",
      "source": [
        "y_test"
      ],
      "metadata": {
        "colab": {
          "base_uri": "https://localhost:8080/"
        },
        "id": "PkWcDzYLNrUA",
        "outputId": "89b8dd9d-0aef-4e69-a6ae-e11f50451292"
      },
      "execution_count": null,
      "outputs": [
        {
          "output_type": "execute_result",
          "data": {
            "text/plain": [
              "8     81\n",
              "16    30\n",
              "0     21\n",
              "23    76\n",
              "11    62\n",
              "9     25\n",
              "13    42\n",
              "Name: Scores, dtype: int64"
            ]
          },
          "metadata": {},
          "execution_count": 50
        }
      ]
    },
    {
      "cell_type": "code",
      "source": [
        "X_test"
      ],
      "metadata": {
        "colab": {
          "base_uri": "https://localhost:8080/"
        },
        "id": "465wOMsvNsWp",
        "outputId": "662502f7-0319-4caf-df6d-951c2ffc0eda"
      },
      "execution_count": null,
      "outputs": [
        {
          "output_type": "execute_result",
          "data": {
            "text/plain": [
              "array([[8.3],\n",
              "       [2.5],\n",
              "       [2.5],\n",
              "       [6.9],\n",
              "       [5.9],\n",
              "       [2.7],\n",
              "       [3.3]])"
            ]
          },
          "metadata": {},
          "execution_count": 51
        }
      ]
    },
    {
      "cell_type": "markdown",
      "source": [
        "# Plotting the actual and predicted values Decision Tree Regressor"
      ],
      "metadata": {
        "id": "oelEpfIFN6cY"
      }
    },
    {
      "cell_type": "code",
      "source": [
        "# Plotting the actual and predicted values\n",
        "\n",
        "c = [i for i in range (1,len(y_test)+1,1)]\n",
        "plt.plot(c,y_test,color='r',linestyle='-',label='Actual Data')\n",
        "plt.plot(c,y_pred_dt,color='b',linestyle='dashed',label='Prediction')\n",
        "plt.xlabel('Scores')\n",
        "plt.ylabel('index')\n",
        "plt.title('Prediction with Decision Tree')\n",
        "plt.legend()\n",
        "plt.show()"
      ],
      "metadata": {
        "colab": {
          "base_uri": "https://localhost:8080/",
          "height": 472
        },
        "id": "j7DO961pNz5Z",
        "outputId": "e05107b9-5bde-4e3f-d0c8-d8d85802bd3f"
      },
      "execution_count": null,
      "outputs": [
        {
          "output_type": "display_data",
          "data": {
            "text/plain": [
              "<Figure size 640x480 with 1 Axes>"
            ],
            "image/png": "[encoded data removed]"
          },
          "metadata": {}
        }
      ]
    },
    {
      "cell_type": "code",
      "source": [
        "# Calculate R square vale\n",
        "rsq_dt = r2_score(y_test,y_pred_dt)"
      ],
      "metadata": {
        "id": "061Cy5XWOP6_"
      },
      "execution_count": null,
      "outputs": []
    },
    {
      "cell_type": "markdown",
      "source": [
        "**Nilai R-Score Decision Tree Regressor**"
      ],
      "metadata": {
        "id": "2T0eXcaaOT3h"
      }
    },
    {
      "cell_type": "code",
      "source": [
        "print('r square Decision Tree Results:',rsq_dt)"
      ],
      "metadata": {
        "colab": {
          "base_uri": "https://localhost:8080/"
        },
        "id": "C_8I8ptFOSge",
        "outputId": "0f51d936-964f-4dc6-dcc9-982b2b201780"
      },
      "execution_count": null,
      "outputs": [
        {
          "output_type": "stream",
          "name": "stdout",
          "text": [
            "r square Decision Tree Results: 0.8803859268443893\n"
          ]
        }
      ]
    },
    {
      "cell_type": "markdown",
      "source": [
        "Dari data tersebut didapatkanlah hasil r square : 0.88 dimana hal itu sangat kuat :"
      ],
      "metadata": {
        "id": "Liu9-47ZhM2y"
      }
    },
    {
      "cell_type": "markdown",
      "source": [
        "![image.png](data:image/png;base64,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)"
      ],
      "metadata": {
        "id": "HVN7msOihVWd"
      }
    },
    {
      "cell_type": "markdown",
      "source": [
        "# Membandingkan Nilai R pada Model Linear Regression dengan Decision Tree Regressor"
      ],
      "metadata": {
        "id": "x7mxBlvWOZYQ"
      }
    },
    {
      "cell_type": "code",
      "source": [
        "# Assign nilai R-squared untuk masing-masing model\n",
        "r_squared_decision_tree = rsq_dt\n",
        "r_squared_linear_regression = rsq"
      ],
      "metadata": {
        "id": "MduVivIbOmqj"
      },
      "execution_count": null,
      "outputs": []
    },
    {
      "cell_type": "code",
      "source": [
        "# Membandingkan nilai R-squared ( Yang tertinggi adalah yang terbaik)\n",
        "if r_squared_linear_regression > r_squared_decision_tree:\n",
        "    print(\"Model Linear Regression memiliki R-squared yang lebih tinggi:\", r_squared_linear_regression)\n",
        "    print(\"Kesimpulan: Model Linear Regression lebih baik dalam menjelaskan variasi dalam data.\")\n",
        "elif r_squared_decision_tree > r_squared_linear_regression:\n",
        "    print(\"Model Decision Tree memiliki R-squared yang lebih tinggi:\", r_squared_decision_tree)\n",
        "    print(\"Kesimpulan: Model Decision Tree lebih baik dalam menjelaskan variasi dalam data.\")"
      ],
      "metadata": {
        "colab": {
          "base_uri": "https://localhost:8080/"
        },
        "id": "_IasWQndPpu3",
        "outputId": "ee7e3c5e-cf6d-453f-bb8d-a4b8cd7c3d52"
      },
      "execution_count": null,
      "outputs": [
        {
          "output_type": "stream",
          "name": "stdout",
          "text": [
            "Model Linear Regression memiliki R-squared yang lebih tinggi: 0.9553509219739938\n",
            "Kesimpulan: Model Linear Regression lebih baik dalam menjelaskan variasi dalam data.\n"
          ]
        }
      ]
    },
    {
      "cell_type": "markdown",
      "source": [
        "Kesimpulannya adalah model regresi linear jauh lebih baik dibanding decision tree jika dilihat dari nilai r"
      ],
      "metadata": {
        "id": "g20-mEEmEhea"
      }
    }
  ]
}